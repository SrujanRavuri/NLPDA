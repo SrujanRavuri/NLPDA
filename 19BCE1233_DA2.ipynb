{
  "nbformat": 4,
  "nbformat_minor": 0,
  "metadata": {
    "colab": {
      "name": "19BCE1233_DA2.ipynb",
      "provenance": [],
      "collapsed_sections": []
    },
    "kernelspec": {
      "name": "python3",
      "display_name": "Python 3"
    },
    "language_info": {
      "name": "python"
    }
  },
  "cells": [
    {
      "cell_type": "markdown",
      "source": [
        "#DA2"
      ],
      "metadata": {
        "id": "oYy8OsVLkSDI"
      }
    },
    {
      "cell_type": "markdown",
      "source": [
        "#BY R V SURJAN 19BCE1233"
      ],
      "metadata": {
        "id": "EgNFj054kpfX"
      }
    },
    {
      "cell_type": "markdown",
      "source": [
        "#1.\tCreate a text corpus with minimum 200 words (unique contents). Implement the following text processing                                                                                               (10 Marks)\n",
        "\n",
        "•\tWord segmentation\n",
        "\n",
        "•\tSentence segmentation\n",
        "\n",
        "•\tConvert to Lowercase\n",
        "\n",
        "•\tStop words removal\n",
        "\n",
        "•\tStemming\n",
        "\n",
        "•\tLemmatization\n",
        "\n",
        "•\tPart of speech tagger\n"
      ],
      "metadata": {
        "id": "-LDwb1GglMFD"
      }
    },
    {
      "cell_type": "markdown",
      "source": [
        "#Word Segmentation"
      ],
      "metadata": {
        "id": "VKMjLCywlZUE"
      }
    },
    {
      "cell_type": "code",
      "execution_count": 12,
      "metadata": {
        "colab": {
          "base_uri": "https://localhost:8080/"
        },
        "id": "uyUcAdcQkRW6",
        "outputId": "12676d8d-4767-45cf-e4cf-f2c611b86b1b"
      },
      "outputs": [
        {
          "output_type": "stream",
          "name": "stderr",
          "text": [
            "[nltk_data] Downloading package punkt to /root/nltk_data...\n",
            "[nltk_data]   Unzipping tokenizers/punkt.zip.\n"
          ]
        },
        {
          "output_type": "execute_result",
          "data": {
            "text/plain": [
              "['Sharma',\n",
              " 'joined',\n",
              " 'a',\n",
              " 'cricket',\n",
              " 'camp',\n",
              " 'in',\n",
              " '1999',\n",
              " 'with',\n",
              " 'his',\n",
              " 'uncle',\n",
              " \"'s\",\n",
              " 'money',\n",
              " '.',\n",
              " 'Dinesh',\n",
              " 'Lad',\n",
              " ',',\n",
              " 'his',\n",
              " 'coach',\n",
              " 'at',\n",
              " 'the',\n",
              " 'camp',\n",
              " ',',\n",
              " 'asked',\n",
              " 'him',\n",
              " 'to',\n",
              " 'change',\n",
              " 'his',\n",
              " 'school',\n",
              " 'to',\n",
              " 'Swami',\n",
              " 'Vivekanand',\n",
              " 'International',\n",
              " 'School',\n",
              " ',',\n",
              " 'where',\n",
              " 'Lad',\n",
              " 'was',\n",
              " 'the',\n",
              " 'coach',\n",
              " 'and',\n",
              " 'the',\n",
              " 'cricket',\n",
              " 'facilities',\n",
              " 'were',\n",
              " 'better',\n",
              " 'than',\n",
              " 'those',\n",
              " 'at',\n",
              " 'Sharma',\n",
              " '’',\n",
              " 's',\n",
              " 'old',\n",
              " 'school',\n",
              " '.',\n",
              " 'Sharma',\n",
              " 'recollects',\n",
              " ',',\n",
              " 'I',\n",
              " 'told',\n",
              " 'him',\n",
              " 'I',\n",
              " 'could',\n",
              " \"n't\",\n",
              " 'afford',\n",
              " 'it',\n",
              " ',',\n",
              " 'but',\n",
              " 'he',\n",
              " 'got',\n",
              " 'me',\n",
              " 'a',\n",
              " 'scholarship',\n",
              " '.',\n",
              " 'So',\n",
              " 'for',\n",
              " 'four',\n",
              " 'years',\n",
              " 'I',\n",
              " 'did',\n",
              " \"n't\",\n",
              " 'pay',\n",
              " 'a',\n",
              " 'penny',\n",
              " ',',\n",
              " 'and',\n",
              " 'did',\n",
              " 'well',\n",
              " 'in',\n",
              " 'my',\n",
              " 'cricket.Sharma',\n",
              " 'started',\n",
              " 'as',\n",
              " 'an',\n",
              " 'off-spinner',\n",
              " 'who',\n",
              " 'could',\n",
              " 'bat',\n",
              " 'a',\n",
              " 'bit',\n",
              " 'before',\n",
              " 'Lad',\n",
              " 'noticed',\n",
              " 'his',\n",
              " 'batting',\n",
              " 'ability',\n",
              " 'and',\n",
              " 'promoted',\n",
              " 'him',\n",
              " 'from',\n",
              " 'number',\n",
              " 'eight',\n",
              " 'to',\n",
              " 'open',\n",
              " 'the',\n",
              " 'innings',\n",
              " '.',\n",
              " 'He',\n",
              " 'excelled',\n",
              " 'in',\n",
              " 'the',\n",
              " 'Harris',\n",
              " 'and',\n",
              " 'Giles',\n",
              " 'Shield',\n",
              " 'school',\n",
              " 'cricket',\n",
              " 'tournaments',\n",
              " ',',\n",
              " 'scoring',\n",
              " 'a',\n",
              " 'century',\n",
              " 'on',\n",
              " 'debut',\n",
              " 'as',\n",
              " 'an',\n",
              " 'opener',\n",
              " '.']"
            ]
          },
          "metadata": {},
          "execution_count": 12
        }
      ],
      "source": [
        "import nltk\n",
        "nltk.download('punkt')\n",
        "text = \"Sharma joined a cricket camp in 1999 with his uncle's money. Dinesh Lad, his coach at the camp, asked him to change his school to Swami Vivekanand International School, where Lad was the coach and the cricket facilities were better than those at Sharma’s old school. Sharma recollects, I told him I couldn't afford it, but he got me a scholarship. So for four years I didn't pay a penny, and did well in my cricket.Sharma started as an off-spinner who could bat a bit before Lad noticed his batting ability and promoted him from number eight to open the innings. He excelled in the Harris and Giles Shield school cricket tournaments, scoring a century on debut as an opener.\"\n",
        "from nltk.tokenize import word_tokenize\n",
        "tokens=word_tokenize(text)\n",
        "tokens"
      ]
    },
    {
      "cell_type": "markdown",
      "source": [
        "#Sentence Segmentation"
      ],
      "metadata": {
        "id": "JKFLUZRznznK"
      }
    },
    {
      "cell_type": "code",
      "source": [
        "from nltk.tokenize import sent_tokenize\n",
        "sents=sent_tokenize(text)\n",
        "sents"
      ],
      "metadata": {
        "colab": {
          "base_uri": "https://localhost:8080/"
        },
        "id": "6qtGzzIPmnRk",
        "outputId": "e7e38ff7-fa86-4c59-ddbf-c21c4d012f2d"
      },
      "execution_count": 13,
      "outputs": [
        {
          "output_type": "execute_result",
          "data": {
            "text/plain": [
              "[\"Sharma joined a cricket camp in 1999 with his uncle's money.\",\n",
              " 'Dinesh Lad, his coach at the camp, asked him to change his school to Swami Vivekanand International School, where Lad was the coach and the cricket facilities were better than those at Sharma’s old school.',\n",
              " \"Sharma recollects, I told him I couldn't afford it, but he got me a scholarship.\",\n",
              " \"So for four years I didn't pay a penny, and did well in my cricket.Sharma started as an off-spinner who could bat a bit before Lad noticed his batting ability and promoted him from number eight to open the innings.\",\n",
              " 'He excelled in the Harris and Giles Shield school cricket tournaments, scoring a century on debut as an opener.']"
            ]
          },
          "metadata": {},
          "execution_count": 13
        }
      ]
    },
    {
      "cell_type": "markdown",
      "source": [
        "#Convert the corpus to lowercase"
      ],
      "metadata": {
        "id": "B9B1F7JqoDlD"
      }
    },
    {
      "cell_type": "code",
      "source": [
        "lowercase=text.lower() \n",
        "print(word_tokenize(lowercase))"
      ],
      "metadata": {
        "colab": {
          "base_uri": "https://localhost:8080/"
        },
        "id": "b1LZcFy8osUU",
        "outputId": "d3f3756e-ad53-45c1-af7c-ba59f1e7c7fc"
      },
      "execution_count": 17,
      "outputs": [
        {
          "output_type": "stream",
          "name": "stdout",
          "text": [
            "['sharma', 'joined', 'a', 'cricket', 'camp', 'in', '1999', 'with', 'his', 'uncle', \"'s\", 'money', '.', 'dinesh', 'lad', ',', 'his', 'coach', 'at', 'the', 'camp', ',', 'asked', 'him', 'to', 'change', 'his', 'school', 'to', 'swami', 'vivekanand', 'international', 'school', ',', 'where', 'lad', 'was', 'the', 'coach', 'and', 'the', 'cricket', 'facilities', 'were', 'better', 'than', 'those', 'at', 'sharma', '’', 's', 'old', 'school', '.', 'sharma', 'recollects', ',', 'i', 'told', 'him', 'i', 'could', \"n't\", 'afford', 'it', ',', 'but', 'he', 'got', 'me', 'a', 'scholarship', '.', 'so', 'for', 'four', 'years', 'i', 'did', \"n't\", 'pay', 'a', 'penny', ',', 'and', 'did', 'well', 'in', 'my', 'cricket.sharma', 'started', 'as', 'an', 'off-spinner', 'who', 'could', 'bat', 'a', 'bit', 'before', 'lad', 'noticed', 'his', 'batting', 'ability', 'and', 'promoted', 'him', 'from', 'number', 'eight', 'to', 'open', 'the', 'innings', '.', 'he', 'excelled', 'in', 'the', 'harris', 'and', 'giles', 'shield', 'school', 'cricket', 'tournaments', ',', 'scoring', 'a', 'century', 'on', 'debut', 'as', 'an', 'opener', '.']\n"
          ]
        }
      ]
    },
    {
      "cell_type": "markdown",
      "source": [
        "#Stop Words removal"
      ],
      "metadata": {
        "id": "ecndNqCoovWu"
      }
    },
    {
      "cell_type": "code",
      "source": [
        "nltk.download('stopwords')\n",
        "from nltk.corpus import stopwords\n",
        "words = [w for w in words if w not in stopwords.words(\"english\")]\n",
        "print(words)"
      ],
      "metadata": {
        "colab": {
          "base_uri": "https://localhost:8080/"
        },
        "id": "iH26h8bhouiz",
        "outputId": "57c78b28-e996-4562-e96b-5d10b02489bb"
      },
      "execution_count": 20,
      "outputs": [
        {
          "output_type": "stream",
          "name": "stdout",
          "text": [
            "['Sharma', 'joined', 'cricket', 'camp', '1999', 'uncle', \"'s\", 'money', '.', 'Dinesh', 'Lad', ',', 'coach', 'camp', ',', 'asked', 'change', 'school', 'Swami', 'Vivekanand', 'International', 'School', ',', 'Lad', 'coach', 'cricket', 'facilities', 'better', 'Sharma', '’', 'old', 'school', '.', 'Sharma', 'recollects', ',', 'I', 'told', 'I', 'could', \"n't\", 'afford', ',', 'got', 'scholarship', '.', 'So', 'four', 'years', 'I', \"n't\", 'pay', 'penny', ',', 'well', 'cricket.Sharma', 'started', 'off-spinner', 'could', 'bat', 'bit', 'Lad', 'noticed', 'batting', 'ability', 'promoted', 'number', 'eight', 'open', 'innings', '.', 'He', 'excelled', 'Harris', 'Giles', 'Shield', 'school', 'cricket', 'tournaments', ',', 'scoring', 'century', 'debut', 'opener', '.']\n"
          ]
        },
        {
          "output_type": "stream",
          "name": "stderr",
          "text": [
            "[nltk_data] Downloading package stopwords to /root/nltk_data...\n",
            "[nltk_data]   Package stopwords is already up-to-date!\n"
          ]
        }
      ]
    },
    {
      "cell_type": "markdown",
      "source": [
        "#Stemming"
      ],
      "metadata": {
        "id": "o156VNC4pumP"
      }
    },
    {
      "cell_type": "code",
      "source": [
        "from nltk.stem.porter import PorterStemmer\n",
        "stemwords = [PorterStemmer().stem(w) for w in words]\n",
        "print(stemwords)"
      ],
      "metadata": {
        "colab": {
          "base_uri": "https://localhost:8080/"
        },
        "id": "RU14Yh4upuDT",
        "outputId": "7640494b-068e-40fb-8de7-f0b49d0abded"
      },
      "execution_count": 21,
      "outputs": [
        {
          "output_type": "stream",
          "name": "stdout",
          "text": [
            "['sharma', 'join', 'cricket', 'camp', '1999', 'uncl', \"'s\", 'money', '.', 'dinesh', 'lad', ',', 'coach', 'camp', ',', 'ask', 'chang', 'school', 'swami', 'vivekanand', 'intern', 'school', ',', 'lad', 'coach', 'cricket', 'facil', 'better', 'sharma', '’', 'old', 'school', '.', 'sharma', 'recollect', ',', 'i', 'told', 'i', 'could', \"n't\", 'afford', ',', 'got', 'scholarship', '.', 'so', 'four', 'year', 'i', \"n't\", 'pay', 'penni', ',', 'well', 'cricket.sharma', 'start', 'off-spinn', 'could', 'bat', 'bit', 'lad', 'notic', 'bat', 'abil', 'promot', 'number', 'eight', 'open', 'inning', '.', 'he', 'excel', 'harri', 'gile', 'shield', 'school', 'cricket', 'tournament', ',', 'score', 'centuri', 'debut', 'open', '.']\n"
          ]
        }
      ]
    },
    {
      "cell_type": "markdown",
      "source": [
        "#Lemmatization"
      ],
      "metadata": {
        "id": "MagkFD4_qb6q"
      }
    },
    {
      "cell_type": "code",
      "source": [
        "nltk.download('wordnet')\n",
        "nltk.download('omw-1.4')\n",
        "from nltk.stem.wordnet import WordNetLemmatizer\n",
        "lemmed = [WordNetLemmatizer().lemmatize(w) for w in words]\n",
        "print(lemmed)"
      ],
      "metadata": {
        "colab": {
          "base_uri": "https://localhost:8080/"
        },
        "id": "81zcCSi9qfiv",
        "outputId": "79bd42ea-09b9-43cc-e5e6-ccfded873097"
      },
      "execution_count": 24,
      "outputs": [
        {
          "output_type": "stream",
          "name": "stderr",
          "text": [
            "[nltk_data] Downloading package wordnet to /root/nltk_data...\n",
            "[nltk_data]   Package wordnet is already up-to-date!\n",
            "[nltk_data] Downloading package omw-1.4 to /root/nltk_data...\n"
          ]
        },
        {
          "output_type": "stream",
          "name": "stdout",
          "text": [
            "['Sharma', 'joined', 'cricket', 'camp', '1999', 'uncle', \"'s\", 'money', '.', 'Dinesh', 'Lad', ',', 'coach', 'camp', ',', 'asked', 'change', 'school', 'Swami', 'Vivekanand', 'International', 'School', ',', 'Lad', 'coach', 'cricket', 'facility', 'better', 'Sharma', '’', 'old', 'school', '.', 'Sharma', 'recollects', ',', 'I', 'told', 'I', 'could', \"n't\", 'afford', ',', 'got', 'scholarship', '.', 'So', 'four', 'year', 'I', \"n't\", 'pay', 'penny', ',', 'well', 'cricket.Sharma', 'started', 'off-spinner', 'could', 'bat', 'bit', 'Lad', 'noticed', 'batting', 'ability', 'promoted', 'number', 'eight', 'open', 'inning', '.', 'He', 'excelled', 'Harris', 'Giles', 'Shield', 'school', 'cricket', 'tournament', ',', 'scoring', 'century', 'debut', 'opener', '.']\n"
          ]
        }
      ]
    },
    {
      "cell_type": "markdown",
      "source": [
        "#POS Tagger"
      ],
      "metadata": {
        "id": "OwgrQ95-q0Un"
      }
    },
    {
      "cell_type": "code",
      "source": [
        "nltk.download('averaged_perceptron_tagger')\n",
        "stop_words = set(stopwords.words('english'))\n",
        "tokens = [w for w in tokens if not w in stop_words]\n",
        "tagged = nltk.pos_tag(tokens)\n",
        "print(tagged)"
      ],
      "metadata": {
        "colab": {
          "base_uri": "https://localhost:8080/"
        },
        "id": "-wp_Jk1Uqzwo",
        "outputId": "db68a8c5-93a5-4d72-f880-e2386932e1de"
      },
      "execution_count": 28,
      "outputs": [
        {
          "output_type": "stream",
          "name": "stderr",
          "text": [
            "[nltk_data] Downloading package averaged_perceptron_tagger to\n",
            "[nltk_data]     /root/nltk_data...\n",
            "[nltk_data]   Unzipping taggers/averaged_perceptron_tagger.zip.\n"
          ]
        },
        {
          "output_type": "stream",
          "name": "stdout",
          "text": [
            "[('Sharma', 'NNP'), ('joined', 'VBD'), ('cricket', 'NN'), ('camp', 'NN'), ('1999', 'CD'), ('uncle', 'NN'), (\"'s\", 'POS'), ('money', 'NN'), ('.', '.'), ('Dinesh', 'NNP'), ('Lad', 'NNP'), (',', ','), ('coach', 'NN'), ('camp', 'NN'), (',', ','), ('asked', 'VBD'), ('change', 'JJ'), ('school', 'NN'), ('Swami', 'NNP'), ('Vivekanand', 'NNP'), ('International', 'NNP'), ('School', 'NNP'), (',', ','), ('Lad', 'NNP'), ('coach', 'NN'), ('cricket', 'NN'), ('facilities', 'NNS'), ('better', 'RBR'), ('Sharma', 'NNP'), ('’', 'NNP'), ('old', 'JJ'), ('school', 'NN'), ('.', '.'), ('Sharma', 'NNP'), ('recollects', 'VBZ'), (',', ','), ('I', 'PRP'), ('told', 'VBD'), ('I', 'PRP'), ('could', 'MD'), (\"n't\", 'RB'), ('afford', 'VB'), (',', ','), ('got', 'VBD'), ('scholarship', 'NN'), ('.', '.'), ('So', 'RB'), ('four', 'CD'), ('years', 'NNS'), ('I', 'PRP'), (\"n't\", 'RB'), ('pay', 'VB'), ('penny', 'NN'), (',', ','), ('well', 'RB'), ('cricket.Sharma', 'RB'), ('started', 'VBN'), ('off-spinner', 'NN'), ('could', 'MD'), ('bat', 'VB'), ('bit', 'RB'), ('Lad', 'NNP'), ('noticed', 'VBD'), ('batting', 'VBG'), ('ability', 'NN'), ('promoted', 'VBD'), ('number', 'NN'), ('eight', 'CD'), ('open', 'JJ'), ('innings', 'NNS'), ('.', '.'), ('He', 'PRP'), ('excelled', 'VBD'), ('Harris', 'NNP'), ('Giles', 'NNP'), ('Shield', 'NNP'), ('school', 'NN'), ('cricket', 'NN'), ('tournaments', 'NNS'), (',', ','), ('scoring', 'VBG'), ('century', 'NN'), ('debut', 'NN'), ('opener', 'NN'), ('.', '.')]\n"
          ]
        }
      ]
    }
  ]
}